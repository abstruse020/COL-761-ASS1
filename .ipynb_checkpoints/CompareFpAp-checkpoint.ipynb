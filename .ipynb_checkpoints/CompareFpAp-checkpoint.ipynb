{
 "cells": [
  {
   "cell_type": "code",
   "execution_count": 1,
   "metadata": {},
   "outputs": [],
   "source": [
    "#TODO-\n",
    "\n",
    "# shift it to hpc\n",
    "# run the fp tree algo and check whether it works or not\n",
    "\n",
    "# DONE -\n"
   ]
  },
  {
   "cell_type": "code",
   "execution_count": 2,
   "metadata": {},
   "outputs": [],
   "source": [
    "from matplotlib import pyplot as plt\n",
    "import datetime\n",
    "import subprocess\n",
    "import time"
   ]
  },
  {
   "cell_type": "code",
   "execution_count": 3,
   "metadata": {},
   "outputs": [],
   "source": [
    "def compute_time(support_list, dataset):\n",
    "    apriori_times = []\n",
    "    fp_tree_times = []\n",
    "    for support in support_list:\n",
    "        #print('Support',support)\n",
    "        t1= datetime.datetime.now()\n",
    "        output = None\n",
    "        try:\n",
    "            output = subprocess.run(['python3', 'fpTreeTime.py'], capture_output=True, text = True, timeout = 60)\n",
    "        except subprocess.TimeoutExpired:\n",
    "            print(\"Timeout executing FP Tree Algo for Support = \", support)\n",
    "        t2 = datetime.datetime.now()\n",
    "        #print(output.stdout)\n",
    "        #print(t2-t1)\n",
    "        try:\n",
    "            output = subprocess.run(['python3', 'aprioriTime.py'], capture_output=True, text = True, timeout = 60)\n",
    "        except subprocess.TimeoutExpired:\n",
    "            print(\"Timeout executing Apriori Algo for Support = \", support)\n",
    "        t3 = datetime.datetime.now()\n",
    "        #print(output.stdout)\n",
    "        #print(t3-t2)\n",
    "        apriori_times.append((t3-t2).total_seconds())\n",
    "        fp_tree_times.append((t2-t1).total_seconds())\n",
    "    return apriori_times, fp_tree_times\n"
   ]
  },
  {
   "cell_type": "code",
   "execution_count": 4,
   "metadata": {},
   "outputs": [],
   "source": [
    "def plot_runtime(support_list, apriori_times, fp_tree_times):\n",
    "    plt.plot(support_list, apriori_times,'r--', label = 'Apriori')\n",
    "    plt.plot(support_list, fp_tree_times,'g', label = 'FP Tree')\n",
    "    plt.xlabel('Support %')\n",
    "    plt.ylabel('Run Time (sec)')\n",
    "    plt.legend()\n",
    "    plt.show()"
   ]
  },
  {
   "cell_type": "code",
   "execution_count": 5,
   "metadata": {},
   "outputs": [
    {
     "data": {
      "image/png": "[encoded data removed]",
      "text/plain": [
       "<Figure size 432x288 with 1 Axes>"
      ]
     },
     "metadata": {
      "needs_background": "light"
     },
     "output_type": "display_data"
    }
   ],
   "source": [
    "support_list = [90, 50, 25, 10, 5]\n",
    "apriori_times, fp_tree_times = compute_time(support_list, 'dataset')\n",
    "plot_runtime(support_list, apriori_times, fp_tree_times)"
   ]
  },
  {
   "cell_type": "code",
   "execution_count": null,
   "metadata": {},
   "outputs": [],
   "source": []
  }
 ],
 "metadata": {
  "kernelspec": {
   "display_name": "Python 3",
   "language": "python",
   "name": "python3"
  },
  "language_info": {
   "codemirror_mode": {
    "name": "ipython",
    "version": 3
   },
   "file_extension": ".py",
   "mimetype": "text/x-python",
   "name": "python",
   "nbconvert_exporter": "python",
   "pygments_lexer": "ipython3",
   "version": "3.7.1"
  }
 },
 "nbformat": 4,
 "nbformat_minor": 2
}
